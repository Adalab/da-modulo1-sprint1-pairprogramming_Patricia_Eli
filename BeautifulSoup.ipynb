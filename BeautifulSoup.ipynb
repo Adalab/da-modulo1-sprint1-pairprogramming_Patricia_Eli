{
 "cells": [
  {
   "cell_type": "markdown",
   "metadata": {},
   "source": [
    "### BEAUTIFUL SOUP"
   ]
  },
  {
   "cell_type": "code",
   "execution_count": 8,
   "metadata": {},
   "outputs": [],
   "source": [
    "# importamos librerías\n",
    "from bs4 import BeautifulSoup\n",
    "import requests\n",
    "import pandas as pd\n",
    "import re\n"
   ]
  },
  {
   "cell_type": "code",
   "execution_count": 9,
   "metadata": {},
   "outputs": [],
   "source": [
    "# asignamos una variable a la url de la web\n",
    "url_coches = 'https://www.ocasionplus.com/coches-ocasion?type%3DCAR%26sort%3DFECHAOP_DESC%26page%3D2'"
   ]
  },
  {
   "cell_type": "code",
   "execution_count": 3,
   "metadata": {},
   "outputs": [
    {
     "data": {
      "text/plain": [
       "200"
      ]
     },
     "execution_count": 3,
     "metadata": {},
     "output_type": "execute_result"
    }
   ],
   "source": [
    "# solicitamos información\n",
    "request_coches = requests.get(url_coches)\n",
    "request_coches.status_code"
   ]
  },
  {
   "cell_type": "code",
   "execution_count": 5,
   "metadata": {},
   "outputs": [
    {
     "data": {
      "text/plain": [
       "<Response [200]>"
      ]
     },
     "execution_count": 5,
     "metadata": {},
     "output_type": "execute_result"
    }
   ],
   "source": [
    "# mostramos el contenido\n",
    "request_coches.content"
   ]
  },
  {
   "cell_type": "code",
   "execution_count": 68,
   "metadata": {},
   "outputs": [],
   "source": [
    "# 'Traducimos' los datos\n",
    "coches_sopa = BeautifulSoup(request_coches.content,'html.parser')"
   ]
  },
  {
   "cell_type": "code",
   "execution_count": 69,
   "metadata": {},
   "outputs": [],
   "source": [
    "# Extraemos los nombres\n",
    "nombre = coches_sopa.find_all('h2',{'style':'overflow-x:hidden'})\n",
    "lista_nombre = []\n",
    "for i in nombre:\n",
    "    lista_nombre.append(i.text)\n"
   ]
  },
  {
   "cell_type": "code",
   "execution_count": 70,
   "metadata": {},
   "outputs": [],
   "source": [
    "# extraemos los precios rebajados\n",
    "precio_rebajado = coches_sopa.find_all('span',{'class':'jsx-2870186023 priceLast'})\n",
    "lista_precio_rebajado = []\n",
    "for i in precio_rebajado:\n",
    "    lista_precio_rebajado.append(i.text)\n",
    "\n"
   ]
  },
  {
   "cell_type": "code",
   "execution_count": 54,
   "metadata": {},
   "outputs": [],
   "source": [
    "# extraemos los precios originales\n",
    "precio_original = coches_sopa.find_all('span',{'class':'jsx-2689423372 price'})\n",
    "lista_precio_original = []\n",
    "for i in precio_original:\n",
    "    lista_precio_original.append(i.text)\n"
   ]
  },
  {
   "cell_type": "code",
   "execution_count": 55,
   "metadata": {},
   "outputs": [],
   "source": [
    "# extraemos los km\n",
    "km = coches_sopa.find_all('span',{'class':'jsx-3960002075 detail big'})\n",
    "lista_kilometros = []\n",
    "for i in km:\n",
    "    lista_kilometros.append(i.text)\n",
    "\n",
    "# como viene con más datos, creamos una nueva lista para meter solo el dato de kilometraje\n",
    "lista_km = []\n",
    "for k in lista_kilometros:\n",
    "    if \"km\" in k:\n",
    "        lista_km.append(k)\n"
   ]
  },
  {
   "cell_type": "code",
   "execution_count": 14,
   "metadata": {},
   "outputs": [],
   "source": [
    "# vamos a juntarlo todo en una función:\n",
    "\n",
    "def tabla_coches (url_coches):\n",
    "    request_coches = requests.get(url_coches)\n",
    "    print(f'La respuesta a tu petición es: {request_coches.status_code}')\n",
    "    coches_sopa = BeautifulSoup(request_coches.content,'html.parser')\n",
    "\n",
    "# extraemos todos los datos\n",
    "    nombre = coches_sopa.find_all('h2',{'style':'overflow-x:hidden'})\n",
    "    precio_rebajado = coches_sopa.find_all('span',{'class':'jsx-2870186023 priceLast'})\n",
    "    precio_original = coches_sopa.find_all('span',{'class':'jsx-2689423372 price'})\n",
    "    km = coches_sopa.find_all('span',{'class':'jsx-3960002075 detail big'})\n",
    "\n",
    "# limpiamos los datos (esta vez vamos a usar list comprehension)\n",
    "    lista_nombre = (i.getText() for i in nombre)\n",
    "    lista_precio_rebajado = (i.getText() for i in precio_rebajado)\n",
    "    lista_precio_original = (i.getText() for i in precio_original)\n",
    "    lista_kilometros = (i.getText() for i in km)\n",
    "    lista_km = []\n",
    "    for k in lista_kilometros:\n",
    "        if \"km\" in k:\n",
    "            lista_km.append(k)\n",
    "\n",
    "# lo juntamos todo en un diccionario:\n",
    "    lista_valores = [lista_nombre, lista_precio_rebajado,lista_precio_original,lista_km]\n",
    "    claves = ['Nombre','Precio Rebajado','Precio Original','Kilómetros']\n",
    "\n",
    "    diccionario_coches = {}\n",
    "\n",
    "    for valores, claves in zip(lista_valores, claves):\n",
    "        diccionario_coches[claves] = lista_valores\n",
    "    \n",
    "    return diccionario_coches"
   ]
  },
  {
   "cell_type": "code",
   "execution_count": 15,
   "metadata": {},
   "outputs": [
    {
     "name": "stdout",
     "output_type": "stream",
     "text": [
      "La respuesta a tu petición es: 200\n"
     ]
    },
    {
     "data": {
      "text/plain": [
       "{'Nombre': [<generator object tabla_coches.<locals>.<genexpr> at 0x7fb3a1798ba0>,\n",
       "  <generator object tabla_coches.<locals>.<genexpr> at 0x7fb3a10d6970>,\n",
       "  <generator object tabla_coches.<locals>.<genexpr> at 0x7fb3a10d67b0>,\n",
       "  ['74.854 km',\n",
       "   '78.312 km',\n",
       "   '107.923 km',\n",
       "   '54.925 km',\n",
       "   '57.047 km',\n",
       "   '98.049 km',\n",
       "   '51.239 km',\n",
       "   '129.075 km',\n",
       "   '36.511 km',\n",
       "   '104.140 km',\n",
       "   '13.910 km',\n",
       "   '69.602 km',\n",
       "   '89.045 km',\n",
       "   '115.534 km',\n",
       "   '150.393 km',\n",
       "   '27.154 km',\n",
       "   '24.661 km',\n",
       "   '25.641 km',\n",
       "   '57.403 km',\n",
       "   '145.674 km']],\n",
       " 'Precio Rebajado': [<generator object tabla_coches.<locals>.<genexpr> at 0x7fb3a1798ba0>,\n",
       "  <generator object tabla_coches.<locals>.<genexpr> at 0x7fb3a10d6970>,\n",
       "  <generator object tabla_coches.<locals>.<genexpr> at 0x7fb3a10d67b0>,\n",
       "  ['74.854 km',\n",
       "   '78.312 km',\n",
       "   '107.923 km',\n",
       "   '54.925 km',\n",
       "   '57.047 km',\n",
       "   '98.049 km',\n",
       "   '51.239 km',\n",
       "   '129.075 km',\n",
       "   '36.511 km',\n",
       "   '104.140 km',\n",
       "   '13.910 km',\n",
       "   '69.602 km',\n",
       "   '89.045 km',\n",
       "   '115.534 km',\n",
       "   '150.393 km',\n",
       "   '27.154 km',\n",
       "   '24.661 km',\n",
       "   '25.641 km',\n",
       "   '57.403 km',\n",
       "   '145.674 km']],\n",
       " 'Precio Original': [<generator object tabla_coches.<locals>.<genexpr> at 0x7fb3a1798ba0>,\n",
       "  <generator object tabla_coches.<locals>.<genexpr> at 0x7fb3a10d6970>,\n",
       "  <generator object tabla_coches.<locals>.<genexpr> at 0x7fb3a10d67b0>,\n",
       "  ['74.854 km',\n",
       "   '78.312 km',\n",
       "   '107.923 km',\n",
       "   '54.925 km',\n",
       "   '57.047 km',\n",
       "   '98.049 km',\n",
       "   '51.239 km',\n",
       "   '129.075 km',\n",
       "   '36.511 km',\n",
       "   '104.140 km',\n",
       "   '13.910 km',\n",
       "   '69.602 km',\n",
       "   '89.045 km',\n",
       "   '115.534 km',\n",
       "   '150.393 km',\n",
       "   '27.154 km',\n",
       "   '24.661 km',\n",
       "   '25.641 km',\n",
       "   '57.403 km',\n",
       "   '145.674 km']],\n",
       " 'Kilómetros': [<generator object tabla_coches.<locals>.<genexpr> at 0x7fb3a1798ba0>,\n",
       "  <generator object tabla_coches.<locals>.<genexpr> at 0x7fb3a10d6970>,\n",
       "  <generator object tabla_coches.<locals>.<genexpr> at 0x7fb3a10d67b0>,\n",
       "  ['74.854 km',\n",
       "   '78.312 km',\n",
       "   '107.923 km',\n",
       "   '54.925 km',\n",
       "   '57.047 km',\n",
       "   '98.049 km',\n",
       "   '51.239 km',\n",
       "   '129.075 km',\n",
       "   '36.511 km',\n",
       "   '104.140 km',\n",
       "   '13.910 km',\n",
       "   '69.602 km',\n",
       "   '89.045 km',\n",
       "   '115.534 km',\n",
       "   '150.393 km',\n",
       "   '27.154 km',\n",
       "   '24.661 km',\n",
       "   '25.641 km',\n",
       "   '57.403 km',\n",
       "   '145.674 km']]}"
      ]
     },
     "execution_count": 15,
     "metadata": {},
     "output_type": "execute_result"
    }
   ],
   "source": [
    "# revisamos el contenido\n",
    "tabla_coches(url_coches)"
   ]
  },
  {
   "cell_type": "code",
   "execution_count": 17,
   "metadata": {},
   "outputs": [
    {
     "ename": "NameError",
     "evalue": "name 'diccionario_coches' is not defined",
     "output_type": "error",
     "traceback": [
      "\u001b[0;31m---------------------------------------------------------------------------\u001b[0m",
      "\u001b[0;31mNameError\u001b[0m                                 Traceback (most recent call last)",
      "\u001b[0;32m/tmp/ipykernel_10765/1851364390.py\u001b[0m in \u001b[0;36m<module>\u001b[0;34m\u001b[0m\n\u001b[1;32m      1\u001b[0m \u001b[0;31m# los convertimos en una tabla\u001b[0m\u001b[0;34m\u001b[0m\u001b[0;34m\u001b[0m\u001b[0m\n\u001b[0;32m----> 2\u001b[0;31m \u001b[0mdf_tabla_coches\u001b[0m \u001b[0;34m=\u001b[0m \u001b[0mpd\u001b[0m\u001b[0;34m.\u001b[0m\u001b[0mDataFrame\u001b[0m\u001b[0;34m(\u001b[0m\u001b[0mdiccionario_coches\u001b[0m\u001b[0;34m)\u001b[0m\u001b[0;34m\u001b[0m\u001b[0;34m\u001b[0m\u001b[0m\n\u001b[0m",
      "\u001b[0;31mNameError\u001b[0m: name 'diccionario_coches' is not defined"
     ]
    }
   ],
   "source": [
    "# los convertimos en una tabla\n",
    "df_tabla_coches = pd.DataFrame(diccionario_coches)"
   ]
  }
 ],
 "metadata": {
  "kernelspec": {
   "display_name": "base",
   "language": "python",
   "name": "python3"
  },
  "language_info": {
   "codemirror_mode": {
    "name": "ipython",
    "version": 3
   },
   "file_extension": ".py",
   "mimetype": "text/x-python",
   "name": "python",
   "nbconvert_exporter": "python",
   "pygments_lexer": "ipython3",
   "version": "3.9.7"
  }
 },
 "nbformat": 4,
 "nbformat_minor": 2
}
