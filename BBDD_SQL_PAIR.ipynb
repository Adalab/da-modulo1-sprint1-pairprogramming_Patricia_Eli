{
 "cells": [
  {
   "cell_type": "markdown",
   "metadata": {},
   "source": [
    "Paso1: Dividimos los atributos en campos atómicos:\n",
    "\n",
    "ID_ALUMNA\n",
    "\n",
    "NOMBRE\n",
    "\n",
    "APELLIDO\n",
    "\n",
    "CIUDAD\n",
    "\n",
    "PAÍS\n",
    "\n",
    "ID_ASIGNATURA\n",
    "\n",
    "ASIGNATURA\n",
    "\n",
    "NOTA\n"
   ]
  },
  {
   "cell_type": "markdown",
   "metadata": {},
   "source": [
    "Paso2:Los atributos que pueden ser PK son ID_ALUMNA y ID_ASIGNATURA y por  ahora decidimos que es ID_ALUMNA"
   ]
  },
  {
   "cell_type": "markdown",
   "metadata": {},
   "source": [
    "Paso3: Comprobamos que todos los campos dependen de la PK, y vemos que las relativas a las asignaturas no dependen de ID_ALUMNA y decidimos crear una segunda BBDD con los datos de asignaturas donde la PK es ID_ASIGNATURAS"
   ]
  },
  {
   "cell_type": "markdown",
   "metadata": {},
   "source": [
    "BBDD1:\n",
    "\n",
    "ID_ALUMNA(PK)\n",
    "\n",
    "NOMBRE\n",
    "\n",
    "APELLIDO\n",
    "\n",
    "CIUDAD\n",
    "\n",
    "PAÍS\n",
    "\n",
    "----------------------------------\n",
    "\n",
    "BBDD2:\n",
    "\n",
    "ID_ASIGNATURA(PK)\n",
    "\n",
    "ASIGNATURA\n",
    "\n",
    "NOTA\n",
    "\n",
    "ID_ALUMNA(FK para conectar la BBDD1)\n",
    "\n",
    "\n",
    "OBSERVARVACIONES:\n",
    "Si quiséramos saber dónde viven las alumnas que han aprobado una asignatura con concreta: podríamos filtrar en la BBDD2 la asignatura y notas > 5 y por ID_ALUMNA en la BBDD1 filtrar por país.\n",
    "Si quisiéramos saber qué asignaturas ha aprobado una alumna en la BBDD1 identificamos su ID_ALUMNA por nombre y apellido y luego nos llevaría a la BBDD2 para comprobar qué asignaturas ha aprobado."
   ]
  }
 ],
 "metadata": {
  "language_info": {
   "name": "python"
  }
 },
 "nbformat": 4,
 "nbformat_minor": 2
}
