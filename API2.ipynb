{
 "cells": [
  {
   "cell_type": "code",
   "execution_count": 19,
   "metadata": {},
   "outputs": [],
   "source": [
    "import requests\n",
    "import pandas as pd"
   ]
  },
  {
   "cell_type": "code",
   "execution_count": 16,
   "metadata": {},
   "outputs": [],
   "source": [
    "\n",
    "def extraer_informacion_energia(energia_especifica, diccionario_resultados):\n",
    "   \n",
    "    for mes in energia_especifica[\"attributes\"][\"values\"]:\n",
    "        \n",
    "        diccionario_resultados[\"fecha\"].append(mes[\"datetime\"])\n",
    "        \n",
    "        diccionario_resultados[\"valor\"].append(mes[\"value\"])\n",
    "        \n",
    "        diccionario_resultados[\"tipo_energia\"].append(energia[\"attributes\"][\"title\"])\n",
    "        \n",
    "        diccionario_resultados[\"tipo_generacion\"].append(energia[\"attributes\"][\"type\"])\n",
    "    \n",
    "    return diccionario_resultados\n"
   ]
  },
  {
   "cell_type": "code",
   "execution_count": 26,
   "metadata": {},
   "outputs": [
    {
     "name": "stdout",
     "output_type": "stream",
     "text": [
      "200\n",
      "200\n",
      "200\n",
      "200\n",
      "200\n",
      "200\n",
      "200\n",
      "200\n",
      "200\n",
      "200\n",
      "200\n",
      "200\n"
     ]
    }
   ],
   "source": [
    "#Aquí es donde vamos iterando por año, en la url no existía la posibilidad de sacar más allá de dos años consecutivos \n",
    "# así que hemos creado un diccionario final con la información extraida de una iteración en la función de lista de energías para elaborar el dataframe por rango de años \n",
    "# y además tener el mismo número de resultados de enrgías y meses (sólo había un tipo de energía para todos los meses y generaba error a la hora de elaborar el frame.)\n",
    "\n",
    "diccionario_final = {\"tipo_energia\": [], \"tipo_generacion\": [], \"fecha\":[], \"valor\": []}\n",
    "\n",
    "for año in range(2011, 2023):\n",
    "\n",
    "    url_electrico= f\"https://apidatos.ree.es/es/datos/generacion/estructura-generacion?start_date={año}-01-01T00:00&end_date={año}-12-31T23:59&time_trunc=month\"\n",
    "\n",
    "    llamada = requests.get(url)\n",
    "\n",
    "    print(llamada.status_code)\n",
    "\n",
    "    llamada_json = llamada.json()\n",
    "\n",
    "    lista_energias = llamada_json[\"included\"]\n",
    "\n",
    "    for energia in lista_energias:\n",
    "\n",
    "        diccionario_final = extraer_informacion_energia(energia, diccionario_final)"
   ]
  },
  {
   "cell_type": "code",
   "execution_count": 24,
   "metadata": {},
   "outputs": [
    {
     "data": {
      "text/html": [
       "<div>\n",
       "<style scoped>\n",
       "    .dataframe tbody tr th:only-of-type {\n",
       "        vertical-align: middle;\n",
       "    }\n",
       "\n",
       "    .dataframe tbody tr th {\n",
       "        vertical-align: top;\n",
       "    }\n",
       "\n",
       "    .dataframe thead th {\n",
       "        text-align: right;\n",
       "    }\n",
       "</style>\n",
       "<table border=\"1\" class=\"dataframe\">\n",
       "  <thead>\n",
       "    <tr style=\"text-align: right;\">\n",
       "      <th></th>\n",
       "      <th>tipo_energia</th>\n",
       "      <th>tipo_generacion</th>\n",
       "      <th>fecha</th>\n",
       "      <th>valor</th>\n",
       "    </tr>\n",
       "  </thead>\n",
       "  <tbody>\n",
       "    <tr>\n",
       "      <th>2482</th>\n",
       "      <td>Generación total</td>\n",
       "      <td>Generación total</td>\n",
       "      <td>2022-08-01T00:00:00.000+02:00</td>\n",
       "      <td>2.528779e+07</td>\n",
       "    </tr>\n",
       "    <tr>\n",
       "      <th>2483</th>\n",
       "      <td>Generación total</td>\n",
       "      <td>Generación total</td>\n",
       "      <td>2022-09-01T00:00:00.000+02:00</td>\n",
       "      <td>2.366389e+07</td>\n",
       "    </tr>\n",
       "    <tr>\n",
       "      <th>2484</th>\n",
       "      <td>Generación total</td>\n",
       "      <td>Generación total</td>\n",
       "      <td>2022-10-01T00:00:00.000+02:00</td>\n",
       "      <td>2.195674e+07</td>\n",
       "    </tr>\n",
       "    <tr>\n",
       "      <th>2485</th>\n",
       "      <td>Generación total</td>\n",
       "      <td>Generación total</td>\n",
       "      <td>2022-11-01T00:00:00.000+01:00</td>\n",
       "      <td>2.157244e+07</td>\n",
       "    </tr>\n",
       "    <tr>\n",
       "      <th>2486</th>\n",
       "      <td>Generación total</td>\n",
       "      <td>Generación total</td>\n",
       "      <td>2022-12-01T00:00:00.000+01:00</td>\n",
       "      <td>2.222615e+07</td>\n",
       "    </tr>\n",
       "  </tbody>\n",
       "</table>\n",
       "</div>"
      ],
      "text/plain": [
       "          tipo_energia   tipo_generacion                          fecha  \\\n",
       "2482  Generación total  Generación total  2022-08-01T00:00:00.000+02:00   \n",
       "2483  Generación total  Generación total  2022-09-01T00:00:00.000+02:00   \n",
       "2484  Generación total  Generación total  2022-10-01T00:00:00.000+02:00   \n",
       "2485  Generación total  Generación total  2022-11-01T00:00:00.000+01:00   \n",
       "2486  Generación total  Generación total  2022-12-01T00:00:00.000+01:00   \n",
       "\n",
       "             valor  \n",
       "2482  2.528779e+07  \n",
       "2483  2.366389e+07  \n",
       "2484  2.195674e+07  \n",
       "2485  2.157244e+07  \n",
       "2486  2.222615e+07  "
      ]
     },
     "execution_count": 24,
     "metadata": {},
     "output_type": "execute_result"
    }
   ],
   "source": [
    "pd.set_option('display.max_columns', None)\n",
    "df_energia= pd.DataFrame(diccionario_final)\n",
    "df_energia.head()\n",
    "df_energia.tail()"
   ]
  },
  {
   "cell_type": "code",
   "execution_count": null,
   "metadata": {},
   "outputs": [],
   "source": [
    "#Lo siguiente es aquello que habíamos hecho en el pair sin añadir las consideraciones en la corrección del ejercicio.\n",
    "#url_electrico=\"https://apidatos.ree.es/es/datos/generacion/estructura-generacion?start_date=2011-01-01T00:00&end_date=2011-12-31T23:59&time_trunc=month\"\n",
    "#llamada=requests.get(url_electrico)\n",
    "#llamada.status_code\n",
    "#electricidad_json=llamada.json()\n",
    "#tipo_energia=electricidad_json[\"included\"][0][\"attributes\"]['title']\n",
    "#tipo_generación=electricidad_json[\"included\"][0][\"attributes\"]['type']\n",
    "#resultado=electricidad_json[\"included\"][0][\"attributes\"]['values']\n",
    "#valor=[i ['value']for i in resultado]\n",
    "#fecha=[i ['datetime']for i in resultado]\n",
    "\n"
   ]
  }
 ],
 "metadata": {
  "kernelspec": {
   "display_name": "base",
   "language": "python",
   "name": "python3"
  },
  "language_info": {
   "codemirror_mode": {
    "name": "ipython",
    "version": 3
   },
   "file_extension": ".py",
   "mimetype": "text/x-python",
   "name": "python",
   "nbconvert_exporter": "python",
   "pygments_lexer": "ipython3",
   "version": "3.9.7"
  }
 },
 "nbformat": 4,
 "nbformat_minor": 2
}
