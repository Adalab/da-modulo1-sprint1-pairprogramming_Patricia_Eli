{
 "cells": [
  {
   "cell_type": "code",
   "execution_count": 1,
   "metadata": {},
   "outputs": [],
   "source": [
    "import requests\n",
    "import pandas as pd"
   ]
  },
  {
   "cell_type": "code",
   "execution_count": 100,
   "metadata": {},
   "outputs": [
    {
     "data": {
      "text/plain": [
       "{'title': 'Renovable',\n",
       " 'description': 'Energía renovable: incluye hidráulica, hidroeólica, eólica, solar fotovoltaica, solar térmica, otras renovables y residuos renovables.',\n",
       " 'color': '#92d050',\n",
       " 'type': 'Renovable',\n",
       " 'magnitude': None,\n",
       " 'composite': False,\n",
       " 'last-update': '2019-06-12T15:32:24.000+02:00',\n",
       " 'values': [{'value': 9918268.536,\n",
       "   'percentage': 0.3827907635999176,\n",
       "   'datetime': '2011-01-01T00:00:00.000+01:00'},\n",
       "  {'value': 7991499.8525,\n",
       "   'percentage': 0.34539728666246566,\n",
       "   'datetime': '2011-02-01T00:00:00.000+01:00'},\n",
       "  {'value': 9606067.697,\n",
       "   'percentage': 0.38313491871765465,\n",
       "   'datetime': '2011-03-01T00:00:00.000+01:00'},\n",
       "  {'value': 8123455.767,\n",
       "   'percentage': 0.374645327606978,\n",
       "   'datetime': '2011-04-01T00:00:00.000+02:00'},\n",
       "  {'value': 7251163.8615,\n",
       "   'percentage': 0.3315832492156598,\n",
       "   'datetime': '2011-05-01T00:00:00.000+02:00'},\n",
       "  {'value': 6452804.794,\n",
       "   'percentage': 0.28622384987819477,\n",
       "   'datetime': '2011-06-01T00:00:00.000+02:00'},\n",
       "  {'value': 6498576.444,\n",
       "   'percentage': 0.2712500834748904,\n",
       "   'datetime': '2011-07-01T00:00:00.000+02:00'},\n",
       "  {'value': 5727787.99,\n",
       "   'percentage': 0.24520399433014006,\n",
       "   'datetime': '2011-08-01T00:00:00.000+02:00'},\n",
       "  {'value': 4933369.656,\n",
       "   'percentage': 0.21408577261430467,\n",
       "   'datetime': '2011-09-01T00:00:00.000+02:00'},\n",
       "  {'value': 5622637.3765,\n",
       "   'percentage': 0.25282066301127765,\n",
       "   'datetime': '2011-10-01T00:00:00.000+02:00'},\n",
       "  {'value': 6825133.5855,\n",
       "   'percentage': 0.3015785344449875,\n",
       "   'datetime': '2011-11-01T00:00:00.000+01:00'},\n",
       "  {'value': 7716287.29,\n",
       "   'percentage': 0.32277637531821257,\n",
       "   'datetime': '2011-12-01T00:00:00.000+01:00'}]}"
      ]
     },
     "execution_count": 100,
     "metadata": {},
     "output_type": "execute_result"
    }
   ],
   "source": [
    "url_electrico_2011=f\"https://apidatos.ree.es/es/datos/generacion/evolucion-renovable-no-renovable?start_date=2011-01-01T00:00&end_date=2011-12-31T23:59&time_trunc=month\"\n",
    "llamada_electrico_2011=requests.get(url_electrico_2011)\n",
    "llamada_electrico_2011.status_code\n",
    "electrico_json_2011=llamada_electrico_2011.json()\n",
    "tipo_generacion_2011= electrico_json_2011[\"included\"][0][\"attributes\"][\"title\"]\n",
    "fecha= electrico_json_2011[\"included\"][0][\"attributes\"][\"last-update\"]\n",
    "electrico_json_2011[\"included\"]\n",
    "\n",
    "electrico_json_2011[\"included\"][0][\"attributes\"].keys()\n",
    "resultado_value_2011=electrico_json_2011[\"included\"][0][\"attributes\"][\"values\"]\n",
    "resultado_value_2011\n",
    "\n",
    "value_2011=[]\n",
    "for i in resultado_value_2011:\n",
    "    value_2011.append(i[\"value\"])\n",
    "    \n",
    "electrico_json_2011[\"included\"][0][\"attributes\"]\n"
   ]
  }
 ],
 "metadata": {
  "kernelspec": {
   "display_name": "base",
   "language": "python",
   "name": "python3"
  },
  "language_info": {
   "codemirror_mode": {
    "name": "ipython",
    "version": 3
   },
   "file_extension": ".py",
   "mimetype": "text/x-python",
   "name": "python",
   "nbconvert_exporter": "python",
   "pygments_lexer": "ipython3",
   "version": "3.9.7"
  }
 },
 "nbformat": 4,
 "nbformat_minor": 2
}
